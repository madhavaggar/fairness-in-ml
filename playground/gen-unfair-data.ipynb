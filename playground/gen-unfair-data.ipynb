{
 "cells": [
  {
   "cell_type": "markdown",
   "metadata": {},
   "source": [
    "# Unfair data\n",
    "\n",
    "This notebook generates a dataset that is inherently unfair."
   ]
  },
  {
   "cell_type": "code",
   "execution_count": null,
   "metadata": {},
   "outputs": [],
   "source": [
    "import random\n",
    "import matplotlib.pyplot as plt\n",
    "import numpy as np\n",
    "import pandas as pd\n",
    "%matplotlib inline"
   ]
  },
  {
   "cell_type": "markdown",
   "metadata": {},
   "source": [
    "We generate cases using the following function. People are randomly placed in the protected class `A` or `B` and randomly assigned an age between 18 and 60 and a location between 0 and 1.\n",
    "People in `A` are uniformly assigned a wealth while people in `B`\n",
    "are more likely to get a higher wealth. Then we assign a target to each person which is a function of\n",
    "their location, wealth and age. Since the wealth is divided unequally, the targets are as well."
   ]
  },
  {
   "cell_type": "code",
   "execution_count": null,
   "metadata": {},
   "outputs": [],
   "source": [
    "def generate_case():\n",
    "    result = {'protected': random.choice(['A', 'B']),\n",
    "              'age': random.randint(18, 60),\n",
    "              'location': random.random()}\n",
    "    result['wealth'] = random.random() if result['protected'] == 'A' else np.sqrt(random.random())\n",
    "    result['target'] = random.random()**2 > (1.5*result['location'] * result['wealth'] + 0.1*(result['age'])/60)\n",
    "    return result"
   ]
  },
  {
   "cell_type": "markdown",
   "metadata": {},
   "source": [
    "We generate 50000 cases."
   ]
  },
  {
   "cell_type": "code",
   "execution_count": null,
   "metadata": {},
   "outputs": [],
   "source": [
    "df = pd.DataFrame([generate_case() for _ in range(50000)])"
   ]
  },
  {
   "cell_type": "markdown",
   "metadata": {},
   "source": [
    "Distributions split by target and protected class are shown below."
   ]
  },
  {
   "cell_type": "code",
   "execution_count": null,
   "metadata": {},
   "outputs": [],
   "source": [
    "fig, axes = plt.subplots(3, 2, figsize=(16, 10), sharey=True)\n",
    "\n",
    "for row, feature in zip(axes, ('age', 'wealth', 'location')):\n",
    "    for ax, target in zip(row, (False, True)):\n",
    "        df[df.target == target].hist(ax=ax, column=feature, bins=range(18, 62, 5) if feature == 'age' else None)\n",
    "        ax.set_title('target = {}'.format(target))\n",
    "        ax.set_xlabel(feature)\n",
    "        ax.set_ylabel('# rows')\n",
    "        \n",
    "fig.tight_layout()"
   ]
  },
  {
   "cell_type": "code",
   "execution_count": null,
   "metadata": {},
   "outputs": [],
   "source": [
    "fig, axes = plt.subplots(3, 2, figsize=(16, 10), sharey=True)\n",
    "\n",
    "for row, feature in zip(axes, ('age', 'wealth', 'location')):\n",
    "    for ax, prot in zip(row, ('A', 'B')):\n",
    "        df[df.protected == prot].hist(ax=ax, column=feature, bins=range(18, 62, 5) if feature == 'age' else None)\n",
    "        ax.set_title('protected = {}'.format(prot))\n",
    "        ax.set_xlabel(feature)\n",
    "        ax.set_ylabel('# rows')\n",
    "        \n",
    "fig.tight_layout()"
   ]
  },
  {
   "cell_type": "markdown",
   "metadata": {},
   "source": [
    "Group size split by target and protected group is:"
   ]
  },
  {
   "cell_type": "code",
   "execution_count": null,
   "metadata": {},
   "outputs": [],
   "source": [
    "df.groupby(['protected', 'target']).size()"
   ]
  },
  {
   "cell_type": "markdown",
   "metadata": {},
   "source": [
    "Finally we write to file:"
   ]
  },
  {
   "cell_type": "code",
   "execution_count": null,
   "metadata": {},
   "outputs": [],
   "source": [
    "df.to_csv('data/generated.data', index=False)"
   ]
  },
  {
   "cell_type": "code",
   "execution_count": null,
   "metadata": {},
   "outputs": [],
   "source": []
  }
 ],
 "metadata": {
  "kernelspec": {
   "display_name": "Python 3",
   "language": "python",
   "name": "python3"
  },
  "language_info": {
   "codemirror_mode": {
    "name": "ipython",
    "version": 3
   },
   "file_extension": ".py",
   "mimetype": "text/x-python",
   "name": "python",
   "nbconvert_exporter": "python",
   "pygments_lexer": "ipython3",
   "version": "3.6.5"
  }
 },
 "nbformat": 4,
 "nbformat_minor": 2
}
